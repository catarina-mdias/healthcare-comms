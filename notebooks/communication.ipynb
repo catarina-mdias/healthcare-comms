{
 "cells": [
  {
   "cell_type": "code",
   "execution_count": 1,
   "id": "b8b96261-e74e-41fa-842c-cdb68fab2920",
   "metadata": {},
   "outputs": [],
   "source": [
    "import random\n",
    "import uuid  # noqa\n",
    "\n",
    "from medication_adherence.communication import MedicationAdherenceCommunication\n",
    "from medication_adherence.config import DATA_DIR\n",
    "from medication_adherence.schema import PatientProfile\n",
    "from medication_adherence.utils import load_json_file"
   ]
  },
  {
   "cell_type": "code",
   "execution_count": 2,
   "id": "eed4f677-9c01-4ab5-9249-a0ba4325c20a",
   "metadata": {},
   "outputs": [],
   "source": [
    "test_patients = load_json_file(DATA_DIR / \"test_patients.json\")"
   ]
  },
  {
   "cell_type": "code",
   "execution_count": 3,
   "id": "6ce33002-cf02-40ec-90df-f6905156600e",
   "metadata": {},
   "outputs": [],
   "source": [
    "patient_profile = PatientProfile.model_validate(random.choice(test_patients))"
   ]
  },
  {
   "cell_type": "code",
   "execution_count": 4,
   "id": "5e82b774-9ce4-4c53-8ef6-df46ada87693",
   "metadata": {},
   "outputs": [],
   "source": [
    "communication_obj = MedicationAdherenceCommunication()"
   ]
  },
  {
   "cell_type": "code",
   "execution_count": 5,
   "id": "ae643443-5de0-4d2b-bf53-f599cfea488d",
   "metadata": {},
   "outputs": [],
   "source": [
    "communication_dict = await communication_obj.get_communication(\n",
    "    request_uuid=str(uuid.uuid4()),\n",
    "    patient_profile=patient_profile,\n",
    ")"
   ]
  },
  {
   "cell_type": "code",
   "execution_count": 8,
   "id": "959cf9e4-6732-4b70-b08b-dd48da036582",
   "metadata": {},
   "outputs": [
    {
     "data": {
      "text/plain": [
       "'Hello Bob, this is a reminder to take your Allopurinol pill today. Consistent use helps manage your Gout effectively. Remember, your caregiver is here to support you. Stay well.'"
      ]
     },
     "execution_count": 8,
     "metadata": {},
     "output_type": "execute_result"
    }
   ],
   "source": [
    "communication_dict[\"message\"]"
   ]
  },
  {
   "cell_type": "code",
   "execution_count": 9,
   "id": "138a0d20-69b5-4ef7-8fbd-b11db90f392d",
   "metadata": {},
   "outputs": [
    {
     "name": "stdout",
     "output_type": "stream",
     "text": [
      "{'request_uuid': '3a1a2b2f-047f-4efe-9491-b265f25339cd', 'message': 'Hello Bob, this is a reminder to take your Allopurinol pill today. Consistent use helps manage your Gout effectively. Remember, your caregiver is here to support you. Stay well.', 'high_success_examples_id': [51, 53, 55], 'low_success_examples_id': [307, 311], 'metadata': {'user_message': 'Patient Profile: {\"age\": 52, \"appointment_frequency\": \"Quarterly\", \"beliefs_about_medication\": \"Skeptical\", \"caregiver_presence\": true, \"daily_routine\": \"Night owl\", \"dosage_instructions\": \"One pill daily\", \"frequency_of_administration\": \"Daily\", \"gender\": \"Male\", \"health_literacy_level\": \"Medium\", \"medication_name\": \"Allopurinol\", \"medication_type\": \"Pill\", \"message_tone_preference\": \"Formal\", \"motivation_level\": \"Medium\", \"name\": \"Bob\", \"physical_activity_level\": \"Sedentary\", \"primary_medical_condition\": \"Gout\", \"severity_of_condition\": \"Moderate\", \"side_effect_sensitivity\": \"Mild\", \"socioeconomic_status\": \"Medium\", \"stress_level\": \"Medium\", \"technology_comfort\": \"Medium\", \"time_since_diagnosis\": 15}\\n\\nExamples of messages with high success likelihood for patients with similar profiles:\\n    1. Hi [Name], it\\'s time for your [medication] dose. Take it now and stay on track!\\n    2. Did you know? Taking your [medication] helps manage your [condition]. Time for your dose!\\n    3. Hey [Name], just a quick reminder to take your [medication]. You\\'ve got this!\\n\\nExamples of messages with low success likelihood for patients with similar profiles:\\n    1. Hi [Name], your insulin is due now. Keeping your blood sugar steady is important!\\n    2. Don\\'t forget your inhaler puff, [Name]. Breathe easy!\\n', 'system_message': '# Role\\nYou are an expert in healthcare communication tasked with generating an SMS message to encourage a patient to adhere to their medication.\\nThe generated message should maximize the likelihood of the patient taking their medication as prescribed.\\n\\n# Task Details\\nYou will be given:\\n1. A patient profile with 22 features:\\n   - name (string): Patient\\'s name\\n   - age (int): Patient\\'s age in years\\n   - gender (string): Male, Female, etc.\\n   - socioeconomic_status (string): Low, Medium, High\\n   - primary_medical_condition (string): Main condition (e.g., Asthma, Diabetes)\\n   - severity_of_condition (string): Mild, Moderate, Severe\\n   - medication_name (string): Specific medication (e.g., Albuterol)\\n   - medication_type (string): Pill, Inhaler, Injection, etc.\\n   - dosage_instructions (string): How to take it (e.g., \"Two puffs as needed\")\\n   - frequency_of_administration (string): Daily, As needed, etc.\\n   - health_literacy_level (string): Low, Medium, High\\n   - daily_routine (string): Morning person, Night owl\\n   - physical_activity_level (string): Sedentary, Active\\n   - caregiver_presence (boolean): True if a caregiver is involved\\n   - message_tone_preference (string): Casual, Formal, Motivational\\n   - motivation_level (string): Low, Medium, High\\n   - beliefs_about_medication (string): Trusting, Skeptical\\n   - stress_level (string): Low, Medium, High\\n   - time_since_diagnosis (int): Years since the patient was diagnosed with their primary condition\\n   - side_effect_sensitivity (string): None, Mild, Severe\\n   - appointment_frequency (string): Monthly, Quarterly, Rarely\\n   - technology_comfort (string): Low, Medium, High\\n\\n2. Examples of messages with high success likelihood for patients with similar profiles.\\n3. Examples of messages with low success likelihood for patients with similar profiles.\\n\\nYour task is to generate a new SMS message tailored to the patient’s profile, drawing inspiration from the high-success examples and avoiding pitfalls from the low-success examples.\\nThe message should be concise, actionable, and optimized for medication adherence.\\n\\n## Generation Guidelines\\nCraft the message by considering the patient’s unique profile holistically, focusing on these key aspects:\\n- Relevance: Include the patient’s specific medication, condition, or dosage instructions to make it tailored and actionable.\\n- Clarity: Ensure the message is easy to understand, matching the patient’s health literacy level—simple for low literacy, detailed for high literacy.\\n- Tone Alignment: Use a tone that resonates with the patient’s preference and emotional state (e.g., casual for energetic patients, formal for skeptical ones).\\n- Motivational Impact: Inspire action based on motivation level and beliefs—use positive reinforcement for trusting patients, address doubts for skeptics.\\n- Cultural Fit: Avoid jargon or assumptions that clash with the patient’s socioeconomic status, stress level, or technology comfort.\\n\\nLearn from the high-success examples to emulate effective strategies and from the low-success examples to avoid ineffective ones.\\n\\n# Response Format\\nUse the following JSON format in your response:\\n\\n```json\\n{\\n  \"explanation\": \"Explanation of how the message was crafted based on the patient profile and examples\",\\n  \"message\": \"The generated SMS message tailored to the patient\"\\n}', 'reasoning': \"The message was crafted to address Bob's skepticism about medication while maintaining a formal tone, as preferred. It acknowledges his existing condition (Gout) and the benefits of adherence to Allopurinol. Given his medium health literacy, the message is clear yet informative, reinforcing the importance of daily medication in managing his condition. The inclusion of a reminder about his caregiver's support reinforces a sense of accountability and support, which can be motivating for adherence.\"}}\n"
     ]
    }
   ],
   "source": [
    "print(communication_dict)"
   ]
  }
 ],
 "metadata": {
  "kernelspec": {
   "display_name": "Python 3 (ipykernel)",
   "language": "python",
   "name": "python3"
  },
  "language_info": {
   "codemirror_mode": {
    "name": "ipython",
    "version": 3
   },
   "file_extension": ".py",
   "mimetype": "text/x-python",
   "name": "python",
   "nbconvert_exporter": "python",
   "pygments_lexer": "ipython3",
   "version": "3.10.16"
  }
 },
 "nbformat": 4,
 "nbformat_minor": 5
}
