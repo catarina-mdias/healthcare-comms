{
 "cells": [
  {
   "cell_type": "code",
   "execution_count": 1,
   "id": "0d24c81b-2836-4c3b-818d-5d86da311b16",
   "metadata": {},
   "outputs": [],
   "source": [
    "import json\n",
    "from typing import Dict, Tuple\n",
    "\n",
    "from communication.chat_model import ChatModel, generate_message\n",
    "from communication.config import DATA_DIR, get_settings\n",
    "from communication.prompt import PromptTemplate\n",
    "from communication.utils import load_json_file"
   ]
  },
  {
   "cell_type": "code",
   "execution_count": 2,
   "id": "a9b40a7b-cbe5-400f-ba66-f2cc696224d8",
   "metadata": {},
   "outputs": [],
   "source": [
    "patients = load_json_file(DATA_DIR / \"patients.json\")\n",
    "messages = load_json_file(DATA_DIR / \"messages.json\")"
   ]
  },
  {
   "cell_type": "code",
   "execution_count": 3,
   "id": "6d990646-832c-443c-b8c0-51ee79d91b87",
   "metadata": {},
   "outputs": [],
   "source": [
    "prompt_template_dataset_generator = PromptTemplate(\n",
    "    system_message_template_file=\"dataset_generator_system_message.jinja2\",\n",
    "    user_message_template_file=\"dataset_generator_user_message.jinja2\",\n",
    ")\n",
    "chat_model = ChatModel(get_settings().OPENAI_API_KEY)\n",
    "\n",
    "TEMPERATURE = 0.1  # low value as we want determinstic responses\n",
    "GPT_MODEL = \"gpt-4o\""
   ]
  },
  {
   "cell_type": "code",
   "execution_count": 4,
   "id": "b2def14f-d1f0-45a9-946d-ce9230eea5d3",
   "metadata": {},
   "outputs": [],
   "source": [
    "async def get_success_likelihood(\n",
    "    patient_data: Dict, message_text: str\n",
    ") -> Tuple[float, str]:\n",
    "\n",
    "    system_message = prompt_template_dataset_generator.build_system_message()\n",
    "\n",
    "    user_message = prompt_template_dataset_generator.build_user_message(\n",
    "        patient_data=patient_data, message_text=message_text\n",
    "    )\n",
    "\n",
    "    response = await generate_message(\n",
    "        chat_model=chat_model,\n",
    "        system_message=system_message,\n",
    "        user_message=user_message,\n",
    "        model=GPT_MODEL,\n",
    "        temperature=TEMPERATURE,\n",
    "        json_format=True,\n",
    "    )\n",
    "    response_dict = json.loads(response)\n",
    "\n",
    "    return float(response_dict[\"likelihood\"]), response_dict[\"explanation\"]"
   ]
  },
  {
   "cell_type": "code",
   "execution_count": 5,
   "id": "d3382829-29af-4e4e-8464-80db2be1a80b",
   "metadata": {},
   "outputs": [],
   "source": [
    "dataset = []\n",
    "for patient in patients:\n",
    "    for message in messages:\n",
    "        message_text = message[\"message\"]\n",
    "        likelihood, reasoning = await get_success_likelihood(\n",
    "            patient_data=patient, message_text=message_text\n",
    "        )\n",
    "        row = {\n",
    "            \"patient_profile\": patient,\n",
    "            \"message\": message_text,\n",
    "            \"reasoning\": reasoning,\n",
    "            \"success_likelihood\": likelihood,\n",
    "        }\n",
    "        dataset.append(row)"
   ]
  },
  {
   "cell_type": "code",
   "execution_count": null,
   "id": "d615a63d-937b-4927-ba80-39de8dadff49",
   "metadata": {},
   "outputs": [
    {
     "name": "stdout",
     "output_type": "stream",
     "text": [
      "Generated dataset with 1 rows and saved to file\n"
     ]
    }
   ],
   "source": [
    "with open(\n",
    "    DATA_DIR / \"medication_adherence_kb.json\", \"w\", encoding=\"utf-8\"\n",
    ") as f:\n",
    "    json.dump(dataset, f, indent=2, ensure_ascii=False)\n",
    "\n",
    "print(f\"Generated dataset with {len(dataset)} rows and saved to file\")"
   ]
  }
 ],
 "metadata": {
  "kernelspec": {
   "display_name": "Python 3 (ipykernel)",
   "language": "python",
   "name": "python3"
  },
  "language_info": {
   "codemirror_mode": {
    "name": "ipython",
    "version": 3
   },
   "file_extension": ".py",
   "mimetype": "text/x-python",
   "name": "python",
   "nbconvert_exporter": "python",
   "pygments_lexer": "ipython3",
   "version": "3.10.16"
  }
 },
 "nbformat": 4,
 "nbformat_minor": 5
}
