{
 "cells": [
  {
   "cell_type": "code",
   "execution_count": 1,
   "id": "b8b96261-e74e-41fa-842c-cdb68fab2920",
   "metadata": {},
   "outputs": [],
   "source": [
    "import random\n",
    "import uuid  # noqa\n",
    "\n",
    "from communication.config import DATA_DIR\n",
    "from communication.medication_adherence import MedicationAdherenceCommunication\n",
    "from communication.schema import PatientProfile\n",
    "from communication.utils import load_json_file"
   ]
  },
  {
   "cell_type": "code",
   "execution_count": 2,
   "id": "eed4f677-9c01-4ab5-9249-a0ba4325c20a",
   "metadata": {},
   "outputs": [],
   "source": [
    "test_patients = load_json_file(DATA_DIR / \"test_patients.json\")"
   ]
  },
  {
   "cell_type": "code",
   "execution_count": 3,
   "id": "6ce33002-cf02-40ec-90df-f6905156600e",
   "metadata": {},
   "outputs": [],
   "source": [
    "patient_profile = PatientProfile.model_validate(random.choice(test_patients))"
   ]
  },
  {
   "cell_type": "code",
   "execution_count": 4,
   "id": "5e82b774-9ce4-4c53-8ef6-df46ada87693",
   "metadata": {},
   "outputs": [],
   "source": [
    "medication_adherence_communication = MedicationAdherenceCommunication()"
   ]
  },
  {
   "cell_type": "code",
   "execution_count": 5,
   "id": "ae643443-5de0-4d2b-bf53-f599cfea488d",
   "metadata": {},
   "outputs": [],
   "source": [
    "med_adherence_comm_result = (\n",
    "    await medication_adherence_communication.get_communication(\n",
    "        request_uuid=str(uuid.uuid4()),\n",
    "        patient_profile=patient_profile,\n",
    "    )\n",
    ")"
   ]
  },
  {
   "cell_type": "code",
   "execution_count": 6,
   "id": "959cf9e4-6732-4b70-b08b-dd48da036582",
   "metadata": {},
   "outputs": [
    {
     "data": {
      "text/plain": [
       "'Good morning, Eve! Time for your Fluticasone inhaler—two puffs to keep your asthma in check. Have a great start to your day!'"
      ]
     },
     "execution_count": 6,
     "metadata": {},
     "output_type": "execute_result"
    }
   ],
   "source": [
    "med_adherence_comm_result[\"message\"]"
   ]
  },
  {
   "cell_type": "code",
   "execution_count": 7,
   "id": "138a0d20-69b5-4ef7-8fbd-b11db90f392d",
   "metadata": {},
   "outputs": [
    {
     "name": "stdout",
     "output_type": "stream",
     "text": [
      "{'request_uuid': '5d44bb83-9eee-49e1-8954-332dbd2d0b13', 'message': 'Good morning, Eve! Time for your Fluticasone inhaler—two puffs to keep your asthma in check. Have a great start to your day!', 'high_success_examples_id': [5, 0, 4], 'low_success_examples_id': [281, 282], 'metadata': {'user_message': 'Patient Profile: {\"age\": 44, \"appointment_frequency\": \"Rarely\", \"beliefs_about_medication\": \"Trusting\", \"caregiver_presence\": false, \"daily_routine\": \"Morning person\", \"dosage_instructions\": \"Two puffs daily\", \"frequency_of_administration\": \"Daily\", \"gender\": \"Female\", \"health_literacy_level\": \"High\", \"medication_name\": \"Fluticasone\", \"medication_type\": \"Inhaler\", \"message_tone_preference\": \"Casual\", \"motivation_level\": \"High\", \"name\": \"Eve\", \"physical_activity_level\": \"Active\", \"primary_medical_condition\": \"Asthma\", \"severity_of_condition\": \"Mild\", \"side_effect_sensitivity\": \"None\", \"socioeconomic_status\": \"High\", \"stress_level\": \"Low\", \"technology_comfort\": \"High\", \"time_since_diagnosis\": 10}\\n\\nExamples of messages with high success likelihood for patients with similar profiles:\\n    1. Good morning, [Name]! Start your day right—take your [medication] with breakfast.\\n    2. Hi [Name], it\\'s time for your [medication] dose. Take it now and stay on track!\\n    3. Hey [Name], just a quick reminder to take your [medication]. You\\'ve got this!\\n\\nExamples of messages with low success likelihood for patients with similar profiles:\\n    1. Hi [Name], your insulin is due now. Keeping your blood sugar steady is important!\\n    2. Take your blood pressure medication now, [Name]. It helps keep your heart healthy.\\n', 'system_message': '# Role\\nYou are an expert in healthcare communication tasked with generating an SMS message to encourage a patient to adhere to their medication.\\nThe generated message should maximize the likelihood of the patient taking their medication as prescribed.\\n\\n# Task Details\\nYou will be given:\\n1. A patient profile with 22 features:\\n   - name (string): Patient\\'s name\\n   - age (int): Patient\\'s age in years\\n   - gender (string): Male, Female, etc.\\n   - socioeconomic_status (string): Low, Medium, High\\n   - primary_medical_condition (string): Main condition (e.g., Asthma, Diabetes)\\n   - severity_of_condition (string): Mild, Moderate, Severe\\n   - medication_name (string): Specific medication (e.g., Albuterol)\\n   - medication_type (string): Pill, Inhaler, Injection, etc.\\n   - dosage_instructions (string): How to take it (e.g., \"Two puffs as needed\")\\n   - frequency_of_administration (string): Daily, As needed, etc.\\n   - health_literacy_level (string): Low, Medium, High\\n   - daily_routine (string): Morning person, Night owl\\n   - physical_activity_level (string): Sedentary, Active\\n   - caregiver_presence (boolean): True if a caregiver is involved\\n   - message_tone_preference (string): Casual, Formal, Motivational\\n   - motivation_level (string): Low, Medium, High\\n   - beliefs_about_medication (string): Trusting, Skeptical\\n   - stress_level (string): Low, Medium, High\\n   - time_since_diagnosis (int): Years since the patient was diagnosed with their primary condition\\n   - side_effect_sensitivity (string): None, Mild, Severe\\n   - appointment_frequency (string): Monthly, Quarterly, Rarely\\n   - technology_comfort (string): Low, Medium, High\\n\\n2. Examples of messages with high success likelihood for patients with similar profiles.\\n3. Examples of messages with low success likelihood for patients with similar profiles.\\n\\nYour task is to generate a new SMS message tailored to the patient’s profile, drawing inspiration from the high-success examples and avoiding pitfalls from the low-success examples.\\nThe message should be concise, actionable, and optimized for medication adherence.\\nMake sure there no placeholders in the message.\\n\\n## Generation Guidelines\\nCraft the message by considering the patient’s unique profile holistically, focusing on these key aspects:\\n- Relevance: Include the patient’s specific medication, condition, or dosage instructions to make it tailored and actionable.\\n- Clarity: Ensure the message is easy to understand, matching the patient’s health literacy level—simple for low literacy, detailed for high literacy.\\n- Tone Alignment: Use a tone that resonates with the patient’s preference and emotional state (e.g., casual for energetic patients, formal for skeptical ones).\\n- Motivational Impact: Inspire action based on motivation level and beliefs—use positive reinforcement for trusting patients, address doubts for skeptics.\\n- Cultural Fit: Avoid jargon or assumptions that clash with the patient’s socioeconomic status, stress level, or technology comfort.\\n\\nLearn from the high-success examples to emulate effective strategies and from the low-success examples to avoid ineffective ones.\\n\\n# Response Format\\nUse the following JSON format in your response:\\n\\n```json\\n{\\n  \"explanation\": \"Explanation of how the message was crafted based on the patient profile and examples\",\\n  \"message\": \"The generated SMS message tailored to the patient\"\\n}', 'reasoning': \"The message was crafted by considering Eve's high health literacy level, trust in medication, and high motivation. Her preference for a casual tone, active lifestyle, and being a morning person were also taken into account. The message is concise, using her name for personalization and a friendly reminder to take her inhaler in the morning, aligning with her daily routine. The message avoids unnecessary medical jargon, as Eve is already knowledgeable about her medication and condition.\"}}\n"
     ]
    }
   ],
   "source": [
    "print(med_adherence_comm_result)"
   ]
  },
  {
   "cell_type": "code",
   "execution_count": 8,
   "id": "b55e7531-853c-4ed2-8387-060c16d2f5c5",
   "metadata": {},
   "outputs": [],
   "source": [
    "SUCCESSFUL = True\n",
    "await medication_adherence_communication.act_on_communication_result(\n",
    "    was_successful=SUCCESSFUL,\n",
    "    low_success_examples_id=med_adherence_comm_result[\n",
    "        \"low_success_examples_id\"\n",
    "    ],\n",
    "    high_success_examples_id=med_adherence_comm_result[\n",
    "        \"high_success_examples_id\"\n",
    "    ],\n",
    ")"
   ]
  }
 ],
 "metadata": {
  "kernelspec": {
   "display_name": "Python 3 (ipykernel)",
   "language": "python",
   "name": "python3"
  },
  "language_info": {
   "codemirror_mode": {
    "name": "ipython",
    "version": 3
   },
   "file_extension": ".py",
   "mimetype": "text/x-python",
   "name": "python",
   "nbconvert_exporter": "python",
   "pygments_lexer": "ipython3",
   "version": "3.10.16"
  }
 },
 "nbformat": 4,
 "nbformat_minor": 5
}
